{
 "cells": [
  {
   "cell_type": "code",
   "execution_count": 13,
   "metadata": {},
   "outputs": [
    {
     "name": "stdout",
     "output_type": "stream",
     "text": [
      "The autoreload extension is already loaded. To reload it, use:\n",
      "  %reload_ext autoreload\n"
     ]
    }
   ],
   "source": [
    "%load_ext autoreload\n",
    "%autoreload 2\n",
    "%reload_ext autoreload\n",
    "import numpy as np\n",
    "import pandas as pd\n",
    "from pandas.io.parsers import read_csv\n",
    "from collections import defaultdict\n",
    "import pickle\n",
    "from random import sample,random\n",
    "import copy\n",
    "from BOAmodel_JMLRv2 import *\n",
    "from pylab import *\n",
    "from random import sample\n",
    "from sklearn.metrics import auc\n",
    "%matplotlib inline\n",
    "rcParams['figure.figsize'] = (10, 10)"
   ]
  },
  {
   "cell_type": "code",
   "execution_count": 14,
   "metadata": {
    "collapsed": true
   },
   "outputs": [],
   "source": [
    "def binary_code(df,collist,Nlevel):\n",
    "    for col in collist:\n",
    "        for q in range(1,Nlevel,1):\n",
    "            threshold = df[col].quantile(float(q)/Nlevel)\n",
    "            df[col+'_geq_'+str(int(q))+'q'] = (df[col] >= threshold).astype(float)\n",
    "    df.drop(collist,axis = 1, inplace = True)"
   ]
  },
  {
   "cell_type": "markdown",
   "metadata": {},
   "source": [
    "# Generating Simulated Datasets "
   ]
  },
  {
   "cell_type": "code",
   "execution_count": 15,
   "metadata": {
    "scrolled": true
   },
   "outputs": [
    {
     "name": "stdout",
     "output_type": "stream",
     "text": [
      "================== iter = 0, Ntrue = 5 ==================\n",
      "NEW -- Using random forest to generate rules ...\n",
      "\tTook 12.090s to generate 12924 rules\n"
     ]
    }
   ],
   "source": [
    "Nlevel = 5\n",
    "Ntrue = 5\n",
    "for N,J in zip([10000],[50]):\n",
    "    for iteration in range(100):\n",
    "        experiment = {}\n",
    "        print('================== iter = {}, Ntrue = {} =================='.format(iteration,Ntrue))\n",
    "        df = pd.DataFrame(30*np.random.rand(N,J),columns = ['att'+str(i+1) for i in range(J)])  \n",
    "        df0 = df.copy(deep = True)\n",
    "        binary_code(df,df.columns,Nlevel)\n",
    "        T = np.random.choice([0, 1], size=(N,), p=[0.5, 0.5])\n",
    "\n",
    "        #=== true set subgroup ====\n",
    "        # generate true rule set\n",
    "        flag = True\n",
    "        while flag: # generate the Y0 via a linear model; Y0 represents the outcome if not receiving any treatment\n",
    "            w0 = np.random.rand(J) - 0.5\n",
    "            g0 = np.dot(df0,w0)\n",
    "            Y0 = (1.0/(1+np.exp(-g0))>=0.5).astype(int)\n",
    "            if mean(Y0)>=0.3 and mean(Y0)<=0.7:\n",
    "                flag = False\n",
    "        BOA_model = BOA(df,1-Y0) # use Bayesian Rule Set to generate rules\n",
    "        BOA_model.generate_rules(5,3,2000,True,5,'randomforest','precision')\n",
    "        candidates = []\n",
    "        threshold = sum(BOA_model.Y)*0.05\n",
    "        for r in range(BOA_model.RMatrix.shape[1]):\n",
    "            Z = np.nonzero(BOA_model.RMatrix[:,r])[0]\n",
    "            if mean(BOA_model.Y[Z])>0.5 and sum(BOA_model.RMatrix[:,r])>threshold:\n",
    "                candidates.append(r)\n",
    "        TrueSet = [BOA_model.rules[i] for i in np.random.choice(candidates,Ntrue)]\n",
    "\n",
    "\n",
    "        dfn = 1-df\n",
    "        dfn.columns = [name.strip() + 'neg' for name in df.columns]\n",
    "        df = pd.concat([df,dfn],axis = 1)\n",
    "        Z = np.zeros(N)\n",
    "        for rule in TrueSet:\n",
    "            Z += (np.sum(df[rule],axis=1)==len(rule)).astype(int)\n",
    "        Z = np.array((Z>0).astype(int))\n",
    "                \n",
    "        ind = np.where(np.multiply(T,Z)==1)\n",
    "        Y = Y0[:]\n",
    "        Y[ind]=1 # treatment is effective if receiving the treatment as well as being in the true group\n",
    "\n",
    "\n",
    "        experiment['Z'] = Z # indicates whether an instance belongs to the true subgroup\n",
    "        experiment['df'] = df # generated dataset\n",
    "        experiment['Y0'] = Y0 # true Y if not receiving the treatment\n",
    "        experiment['T'] = T # treatment\n",
    "        experiment['Y'] = Y # observed Y\n",
    "        pickle.dump(experiment,open('simulations_'+str(iteration)+'.pkl','wb'))\n"
   ]
  },
  {
   "cell_type": "markdown",
   "metadata": {},
   "source": [
    "# Generating Simulated Datasets - Injecting random noise"
   ]
  },
  {
   "cell_type": "code",
   "execution_count": 16,
   "metadata": {},
   "outputs": [
    {
     "name": "stdout",
     "output_type": "stream",
     "text": [
      "================== iter = 0, Ntrue = 5 ==================\n",
      "NEW -- Using random forest to generate rules ...\n",
      "\tTook 11.716s to generate 13454 rules\n"
     ]
    }
   ],
   "source": [
    "Nlevel = 5\n",
    "Ntrue = 5\n",
    "for N,J in zip([10000],[50]):\n",
    "    for iteration in range(100):\n",
    "        experiment = {}\n",
    "        print('================== iter = {}, Ntrue = {} =================='.format(iteration,Ntrue))\n",
    "        df = pd.DataFrame(30*np.random.rand(N,J),columns = ['att'+str(i+1) for i in range(J)])  \n",
    "        df0 = df.copy(deep = True)\n",
    "        binary_code(df,df.columns,Nlevel)\n",
    "        T = np.random.choice([0, 1], size=(N,), p=[0.5, 0.5])\n",
    "\n",
    "        #=== true set subgroup ====\n",
    "        # generate true rule set\n",
    "        flag = True\n",
    "        while flag:\n",
    "            w0 = np.random.rand(J) - 0.5\n",
    "            g0 = np.dot(df0,w0)\n",
    "            Y0 = (1.0/(1+np.exp(-g0))>=0.5).astype(int)\n",
    "            if mean(Y0)>=0.3 and mean(Y0)<=0.7:\n",
    "                flag = False\n",
    "        BOA_model = BOA(df,1-Y0)\n",
    "        BOA_model.generate_rules(5,3,2000,True,5,'randomforest','precision')\n",
    "        candidates = []\n",
    "        threshold = sum(BOA_model.Y)*0.05\n",
    "        for r in range(BOA_model.RMatrix.shape[1]):\n",
    "            Z = np.nonzero(BOA_model.RMatrix[:,r])[0]\n",
    "            if mean(BOA_model.Y[Z])>0.5 and sum(BOA_model.RMatrix[:,r])>threshold:\n",
    "                candidates.append(r)\n",
    "        TrueSet = [BOA_model.rules[i] for i in np.random.choice(candidates,Ntrue)]\n",
    "\n",
    "\n",
    "        dfn = 1-df\n",
    "        dfn.columns = [name.strip() + 'neg' for name in df.columns]\n",
    "        df = pd.concat([df,dfn],axis = 1)\n",
    "        Z = np.zeros(N)\n",
    "        for rule in TrueSet:\n",
    "            Z += (np.sum(df[rule],axis=1)==len(rule)).astype(int)\n",
    "        Z = np.array((Z>0).astype(int))\n",
    "\n",
    "        # === inserting random noise to the true subgroups ===\n",
    "        index = sample(range(len(train_index)),int(0.1*len(train_index)))[0]\n",
    "        Z[index] = 1-Z[index]\n",
    "        # =======================\n",
    "        \n",
    "        ind = np.where(np.multiply(T,Z)==1)\n",
    "        Y = Y0[:]\n",
    "        Y[ind]=1\n",
    "\n",
    "        experiment['Z'] = Z # indicates whether an instance belongs to the true subgroup\n",
    "        experiment['df'] = df # generated dataset\n",
    "        experiment['Y0'] = Y0 # true Y if not receiving the treatment\n",
    "        experiment['T'] = T # treatment\n",
    "        experiment['Y'] = Y # observed Y\n",
    "        pickle.dump(experiment,open('simulations_'+str(iteration)+'.pkl','wb'))\n",
    "\n",
    "\n",
    "\n"
   ]
  },
  {
   "cell_type": "markdown",
   "metadata": {},
   "source": [
    "# Generating simulated data -  linear subgroups"
   ]
  },
  {
   "cell_type": "code",
   "execution_count": 17,
   "metadata": {},
   "outputs": [
    {
     "name": "stdout",
     "output_type": "stream",
     "text": [
      "================== iter = 0, Ntrue = 5 ==================\n"
     ]
    }
   ],
   "source": [
    "Nlevel = 5\n",
    "Ntrue = 5\n",
    "for N,J in zip([10000],[50]):\n",
    "    for iteration in range(100):\n",
    "        experiment = {}\n",
    "        print('================== iter = {}, Ntrue = {} =================='.format(iteration,Ntrue))\n",
    "        df = pd.DataFrame(30*np.random.rand(N,J),columns = ['att'+str(i+1) for i in range(J)])  \n",
    "        df0 = df.copy(deep = True)\n",
    "        binary_code(df,df.columns,Nlevel)\n",
    "        T = np.random.choice([0, 1], size=(N,), p=[0.5, 0.5])\n",
    "\n",
    "\n",
    "        #=== Generate true subgroup: linear sugroup ====\n",
    "        flag = True\n",
    "        while flag:\n",
    "            ws = np.random.rand(J) - 0.5\n",
    "            gs = np.dot(df0,ws)\n",
    "            Z = (1.0/(1+np.exp(-gs))>=0.5).astype(int)\n",
    "            if mean(Z)>=0.2 and mean(Z)<=0.6:\n",
    "                flag = False\n",
    "\n",
    "                \n",
    "        ind = np.where(np.multiply(T,Z)==1)\n",
    "        Y = Y0[:]\n",
    "        Y[ind]=1\n",
    "\n",
    "        dfn = 1-df\n",
    "        dfn.columns = [name.strip() + 'neg' for name in df.columns]\n",
    "        df = pd.concat([df.iloc[test_index],dfn],axis = 1)\n",
    "        Z = np.zeros(N)\n",
    "        for rule in TrueSet:\n",
    "            Z += (np.sum(df[rule],axis=1)==len(rule)).astype(int)\n",
    "        Z = (Z>0).astype(int)\n",
    "\n",
    "\n",
    "\n",
    "        experiment['Z'] = Z # indicates whether an instance belongs to the true subgroup\n",
    "        experiment['df'] = df # generated dataset\n",
    "        experiment['Y0'] = Y0 # true Y if not receiving the treatment\n",
    "        experiment['T'] = T # treatment\n",
    "        experiment['Y'] = Y # observed Y\n",
    "        pickle.dump(experiment,open('simulations_'+str(iteration)+'.pkl','wb'))\n",
    "\n",
    "\n"
   ]
  },
  {
   "cell_type": "markdown",
   "metadata": {},
   "source": [
    "# Generating simulated data - Non-linear subgroups"
   ]
  },
  {
   "cell_type": "code",
   "execution_count": 18,
   "metadata": {},
   "outputs": [
    {
     "name": "stdout",
     "output_type": "stream",
     "text": [
      "================== iter = 0, Ntrue = 5 ==================\n"
     ]
    }
   ],
   "source": [
    "Nlevel = 5\n",
    "Ntrue = 5\n",
    "for N,J in zip([10000],[50]):\n",
    "    for iteration in range(100):\n",
    "        experiment = {}\n",
    "        print('================== iter = {}, Ntrue = {} =================='.format(iteration,Ntrue))\n",
    "        df = pd.DataFrame(30*np.random.rand(N,J),columns = ['att'+str(i+1) for i in range(J)])  \n",
    "        df0 = df.copy(deep = True)\n",
    "        binary_code(df,df.columns,Nlevel)\n",
    "        T = np.random.choice([0, 1], size=(N,), p=[0.5, 0.5])\n",
    "\n",
    "\n",
    "\n",
    "#=== Generate nonelinear sugroup ====\n",
    "        flag = True\n",
    "        while flag:\n",
    "            for k in range(10):\n",
    "                if random()>0.5:\n",
    "                    col = sample(df0.columns.tolist(),1)\n",
    "                    df0['new'+str(k+1)] = pow(df0[col],sample([2,3],1)[0])\n",
    "                else:\n",
    "                    cols = sample(df00.columns.tolist(),2)\n",
    "                    df0['new'+str(k+1)] = df0[cols[0]]*df0[cols[1]]\n",
    "        \n",
    "            ws = np.random.rand(df0.shape[1]) - 0.5\n",
    "            gs = np.dot(df0,ws)\n",
    "            Z = (1.0/(1+np.exp(-gs))>=0.7).astype(int)\n",
    "\n",
    "            if mean(Z)>=0.1 and mean(Z)<=0.5:\n",
    "                flag = False\n",
    "# ==================================================\n",
    "                \n",
    "        ind = np.where(np.multiply(T,Z)==1)\n",
    "        Y = Y0[:]\n",
    "        Y[ind]=1\n",
    "\n",
    "        dfn = 1-df\n",
    "        dfn.columns = [name.strip() + 'neg' for name in df.columns]\n",
    "        df = pd.concat([df.iloc[test_index],dfn],axis = 1)\n",
    "        Z = np.zeros(N)\n",
    "        for rule in TrueSet:\n",
    "            Z += (np.sum(df[rule],axis=1)==len(rule)).astype(int)\n",
    "        Z = (Z>0).astype(int)\n",
    "\n",
    "\n",
    "\n",
    "        experiment['Z'] = Z # indicates whether an instance belongs to the true subgroup\n",
    "        experiment['df'] = df # generated dataset\n",
    "        experiment['Y0'] = Y0 # true Y if not receiving the treatment\n",
    "        experiment['T'] = T # treatment\n",
    "        experiment['Y'] = Y # observed Y\n",
    "        pickle.dump(experiment,open('simulations_'+str(iteration)+'.pkl','wb'))\n",
    "\n",
    "\n",
    "\n",
    "\n"
   ]
  }
 ],
 "metadata": {
  "anaconda-cloud": {},
  "kernelspec": {
   "display_name": "Python [default]",
   "language": "python",
   "name": "python3"
  },
  "language_info": {
   "codemirror_mode": {
    "name": "ipython",
    "version": 3
   },
   "file_extension": ".py",
   "mimetype": "text/x-python",
   "name": "python",
   "nbconvert_exporter": "python",
   "pygments_lexer": "ipython3",
   "version": "3.5.2"
  }
 },
 "nbformat": 4,
 "nbformat_minor": 1
}
