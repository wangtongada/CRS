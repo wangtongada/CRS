{
 "cells": [
  {
   "cell_type": "code",
   "execution_count": 4,
   "metadata": {},
   "outputs": [
    {
     "name": "stdout",
     "output_type": "stream",
     "text": [
      "The autoreload extension is already loaded. To reload it, use:\n",
      "  %reload_ext autoreload\n"
     ]
    }
   ],
   "source": [
    "%load_ext autoreload\n",
    "%autoreload 2\n",
    "%reload_ext autoreload\n",
    "import numpy as np\n",
    "import pandas as pd\n",
    "from pandas.io.parsers import read_csv\n",
    "from collections import defaultdict\n",
    "import pickle\n",
    "from random import sample,random\n",
    "import copy\n",
    "from BOAmodel_JMLRv2 import *\n",
    "from pylab import *\n",
    "from random import sample\n",
    "from sklearn.metrics import auc\n",
    "%matplotlib inline\n",
    "rcParams['figure.figsize'] = (10, 10)"
   ]
  },
  {
   "cell_type": "code",
   "execution_count": 5,
   "metadata": {},
   "outputs": [],
   "source": [
    "def binary_code(df,collist,Nlevel):\n",
    "    for col in collist:\n",
    "        for q in range(1,Nlevel,1):\n",
    "            threshold = df[col].quantile(float(q)/Nlevel)\n",
    "            df[col+'_geq_'+str(int(q))+'q'] = (df[col] >= threshold).astype(float)\n",
    "    df.drop(collist,axis = 1, inplace = True)"
   ]
  },
  {
   "cell_type": "markdown",
   "metadata": {},
   "source": [
    "# Generating Simulated Datasets"
   ]
  },
  {
   "cell_type": "code",
   "execution_count": 10,
   "metadata": {},
   "outputs": [
    {
     "name": "stdout",
     "output_type": "stream",
     "text": [
      "================== iter = 0, Ntrue = 5 ==================\n",
      "NEW -- Using random forest to generate rules ...\n",
      "\tTook 8.208s to generate 13607 rules\n",
      "[['att12_geq_3q', 'att1_geq_2q', 'att24_geq_2qneg'], ['att1_geq_1qneg', 'att46_geq_3qneg', 'att6_geq_2q'], ['att18_geq_2qneg', 'att20_geq_2q', 'att44_geq_3qneg'], ['att12_geq_3q', 'att4_geq_4qneg', 'att6_geq_2q'], ['att29_geq_3qneg', 'att44_geq_2qneg', 'att6_geq_4q']]\n",
      "================== iter = 1, Ntrue = 5 ==================\n",
      "NEW -- Using random forest to generate rules ...\n"
     ]
    },
    {
     "ename": "KeyboardInterrupt",
     "evalue": "",
     "output_type": "error",
     "traceback": [
      "\u001b[0;31m---------------------------------------------------------------------------\u001b[0m",
      "\u001b[0;31mKeyboardInterrupt\u001b[0m                         Traceback (most recent call last)",
      "\u001b[0;32m<ipython-input-10-1e34c15eeb23>\u001b[0m in \u001b[0;36m<module>\u001b[0;34m\u001b[0m\n\u001b[1;32m     25\u001b[0m                 \u001b[0mflag\u001b[0m \u001b[0;34m=\u001b[0m \u001b[0;32mFalse\u001b[0m\u001b[0;34m\u001b[0m\u001b[0;34m\u001b[0m\u001b[0m\n\u001b[1;32m     26\u001b[0m         \u001b[0mBOA_model\u001b[0m \u001b[0;34m=\u001b[0m \u001b[0mBOA\u001b[0m\u001b[0;34m(\u001b[0m\u001b[0mdf\u001b[0m\u001b[0;34m.\u001b[0m\u001b[0miloc\u001b[0m\u001b[0;34m[\u001b[0m\u001b[0mtrain_index\u001b[0m\u001b[0;34m]\u001b[0m\u001b[0;34m,\u001b[0m\u001b[0;36m1\u001b[0m\u001b[0;34m-\u001b[0m\u001b[0mY0\u001b[0m\u001b[0;34m[\u001b[0m\u001b[0mtrain_index\u001b[0m\u001b[0;34m]\u001b[0m\u001b[0;34m)\u001b[0m\u001b[0;34m\u001b[0m\u001b[0;34m\u001b[0m\u001b[0m\n\u001b[0;32m---> 27\u001b[0;31m         \u001b[0mBOA_model\u001b[0m\u001b[0;34m.\u001b[0m\u001b[0mgenerate_rules\u001b[0m\u001b[0;34m(\u001b[0m\u001b[0;36m5\u001b[0m\u001b[0;34m,\u001b[0m\u001b[0;36m3\u001b[0m\u001b[0;34m,\u001b[0m\u001b[0;36m2000\u001b[0m\u001b[0;34m,\u001b[0m\u001b[0;32mTrue\u001b[0m\u001b[0;34m,\u001b[0m\u001b[0;36m5\u001b[0m\u001b[0;34m,\u001b[0m\u001b[0;34m'randomforest'\u001b[0m\u001b[0;34m,\u001b[0m\u001b[0;34m'precision'\u001b[0m\u001b[0;34m)\u001b[0m\u001b[0;34m\u001b[0m\u001b[0;34m\u001b[0m\u001b[0m\n\u001b[0m\u001b[1;32m     28\u001b[0m         \u001b[0mcandidates\u001b[0m \u001b[0;34m=\u001b[0m \u001b[0;34m[\u001b[0m\u001b[0;34m]\u001b[0m\u001b[0;34m\u001b[0m\u001b[0;34m\u001b[0m\u001b[0m\n\u001b[1;32m     29\u001b[0m         \u001b[0mthreshold\u001b[0m \u001b[0;34m=\u001b[0m \u001b[0msum\u001b[0m\u001b[0;34m(\u001b[0m\u001b[0mBOA_model\u001b[0m\u001b[0;34m.\u001b[0m\u001b[0mY\u001b[0m\u001b[0;34m)\u001b[0m\u001b[0;34m*\u001b[0m\u001b[0;36m0.05\u001b[0m\u001b[0;34m\u001b[0m\u001b[0;34m\u001b[0m\u001b[0m\n",
      "\u001b[0;32m~/Dropbox/Research/Projects/crs/python code/BOAmodel_JMLRv2.py\u001b[0m in \u001b[0;36mgenerate_rules\u001b[0;34m(self, supp, maxlen, N, need_negcode, njobs, method, criteria, add_rules)\u001b[0m\n\u001b[1;32m     99\u001b[0m                 \u001b[0mclf\u001b[0m\u001b[0;34m.\u001b[0m\u001b[0mfit\u001b[0m\u001b[0;34m(\u001b[0m\u001b[0mself\u001b[0m\u001b[0;34m.\u001b[0m\u001b[0mdf\u001b[0m\u001b[0;34m,\u001b[0m\u001b[0mself\u001b[0m\u001b[0;34m.\u001b[0m\u001b[0mY\u001b[0m\u001b[0;34m)\u001b[0m\u001b[0;34m\u001b[0m\u001b[0;34m\u001b[0m\u001b[0m\n\u001b[1;32m    100\u001b[0m                 \u001b[0;32mfor\u001b[0m \u001b[0mn\u001b[0m \u001b[0;32min\u001b[0m \u001b[0mrange\u001b[0m\u001b[0;34m(\u001b[0m\u001b[0mn_estimators\u001b[0m\u001b[0;34m)\u001b[0m\u001b[0;34m:\u001b[0m\u001b[0;34m\u001b[0m\u001b[0;34m\u001b[0m\u001b[0m\n\u001b[0;32m--> 101\u001b[0;31m                     \u001b[0mrules\u001b[0m\u001b[0;34m.\u001b[0m\u001b[0mextend\u001b[0m\u001b[0;34m(\u001b[0m\u001b[0mextract_rules\u001b[0m\u001b[0;34m(\u001b[0m\u001b[0mclf\u001b[0m\u001b[0;34m.\u001b[0m\u001b[0mestimators_\u001b[0m\u001b[0;34m[\u001b[0m\u001b[0mn\u001b[0m\u001b[0;34m]\u001b[0m\u001b[0;34m,\u001b[0m\u001b[0mdf\u001b[0m\u001b[0;34m.\u001b[0m\u001b[0mcolumns\u001b[0m\u001b[0;34m)\u001b[0m\u001b[0;34m)\u001b[0m\u001b[0;34m\u001b[0m\u001b[0;34m\u001b[0m\u001b[0m\n\u001b[0m\u001b[1;32m    102\u001b[0m             \u001b[0mrules\u001b[0m \u001b[0;34m=\u001b[0m \u001b[0;34m[\u001b[0m\u001b[0mlist\u001b[0m\u001b[0;34m(\u001b[0m\u001b[0mx\u001b[0m\u001b[0;34m)\u001b[0m \u001b[0;32mfor\u001b[0m \u001b[0mx\u001b[0m \u001b[0;32min\u001b[0m \u001b[0mset\u001b[0m\u001b[0;34m(\u001b[0m\u001b[0mtuple\u001b[0m\u001b[0;34m(\u001b[0m\u001b[0mnp\u001b[0m\u001b[0;34m.\u001b[0m\u001b[0msort\u001b[0m\u001b[0;34m(\u001b[0m\u001b[0mx\u001b[0m\u001b[0;34m)\u001b[0m\u001b[0;34m)\u001b[0m \u001b[0;32mfor\u001b[0m \u001b[0mx\u001b[0m \u001b[0;32min\u001b[0m \u001b[0mrules\u001b[0m\u001b[0;34m)\u001b[0m\u001b[0;34m]\u001b[0m\u001b[0;34m\u001b[0m\u001b[0;34m\u001b[0m\u001b[0m\n\u001b[1;32m    103\u001b[0m             \u001b[0mdf\u001b[0m \u001b[0;34m=\u001b[0m \u001b[0;36m1\u001b[0m\u001b[0;34m-\u001b[0m\u001b[0mself\u001b[0m\u001b[0;34m.\u001b[0m\u001b[0mdf\u001b[0m\u001b[0;34m\u001b[0m\u001b[0;34m\u001b[0m\u001b[0m\n",
      "\u001b[0;32m~/Dropbox/Research/Projects/crs/python code/BOAmodel_JMLRv2.py\u001b[0m in \u001b[0;36mextract_rules\u001b[0;34m(tree, feature_names)\u001b[0m\n\u001b[1;32m    517\u001b[0m     \u001b[0;32mfor\u001b[0m \u001b[0mchild\u001b[0m \u001b[0;32min\u001b[0m \u001b[0midx\u001b[0m\u001b[0;34m:\u001b[0m\u001b[0;34m\u001b[0m\u001b[0;34m\u001b[0m\u001b[0m\n\u001b[1;32m    518\u001b[0m         \u001b[0mrule\u001b[0m \u001b[0;34m=\u001b[0m \u001b[0;34m[\u001b[0m\u001b[0;34m]\u001b[0m\u001b[0;34m\u001b[0m\u001b[0;34m\u001b[0m\u001b[0m\n\u001b[0;32m--> 519\u001b[0;31m         \u001b[0;32mfor\u001b[0m \u001b[0mnode\u001b[0m \u001b[0;32min\u001b[0m \u001b[0mrecurse\u001b[0m\u001b[0;34m(\u001b[0m\u001b[0mleft\u001b[0m\u001b[0;34m,\u001b[0m \u001b[0mright\u001b[0m\u001b[0;34m,\u001b[0m \u001b[0mchild\u001b[0m\u001b[0;34m)\u001b[0m\u001b[0;34m:\u001b[0m\u001b[0;34m\u001b[0m\u001b[0;34m\u001b[0m\u001b[0m\n\u001b[0m\u001b[1;32m    520\u001b[0m             \u001b[0mrule\u001b[0m\u001b[0;34m.\u001b[0m\u001b[0mappend\u001b[0m\u001b[0;34m(\u001b[0m\u001b[0mnode\u001b[0m\u001b[0;34m)\u001b[0m\u001b[0;34m\u001b[0m\u001b[0;34m\u001b[0m\u001b[0m\n\u001b[1;32m    521\u001b[0m         \u001b[0mrules\u001b[0m\u001b[0;34m.\u001b[0m\u001b[0mappend\u001b[0m\u001b[0;34m(\u001b[0m\u001b[0mrule\u001b[0m\u001b[0;34m)\u001b[0m\u001b[0;34m\u001b[0m\u001b[0;34m\u001b[0m\u001b[0m\n",
      "\u001b[0;32m~/Dropbox/Research/Projects/crs/python code/BOAmodel_JMLRv2.py\u001b[0m in \u001b[0;36mrecurse\u001b[0;34m(left, right, child, lineage)\u001b[0m\n\u001b[1;32m    503\u001b[0m             \u001b[0msuffix\u001b[0m \u001b[0;34m=\u001b[0m \u001b[0;34m'neg'\u001b[0m\u001b[0;34m\u001b[0m\u001b[0;34m\u001b[0m\u001b[0m\n\u001b[1;32m    504\u001b[0m         \u001b[0;32melse\u001b[0m\u001b[0;34m:\u001b[0m\u001b[0;34m\u001b[0m\u001b[0;34m\u001b[0m\u001b[0m\n\u001b[0;32m--> 505\u001b[0;31m             \u001b[0mparent\u001b[0m \u001b[0;34m=\u001b[0m \u001b[0mnp\u001b[0m\u001b[0;34m.\u001b[0m\u001b[0mwhere\u001b[0m\u001b[0;34m(\u001b[0m\u001b[0mright\u001b[0m \u001b[0;34m==\u001b[0m \u001b[0mchild\u001b[0m\u001b[0;34m)\u001b[0m\u001b[0;34m[\u001b[0m\u001b[0;36m0\u001b[0m\u001b[0;34m]\u001b[0m\u001b[0;34m.\u001b[0m\u001b[0mitem\u001b[0m\u001b[0;34m(\u001b[0m\u001b[0;34m)\u001b[0m\u001b[0;34m\u001b[0m\u001b[0;34m\u001b[0m\u001b[0m\n\u001b[0m\u001b[1;32m    506\u001b[0m             \u001b[0msuffix\u001b[0m \u001b[0;34m=\u001b[0m \u001b[0;34m''\u001b[0m\u001b[0;34m\u001b[0m\u001b[0;34m\u001b[0m\u001b[0m\n\u001b[1;32m    507\u001b[0m \u001b[0;34m\u001b[0m\u001b[0m\n",
      "\u001b[0;31mKeyboardInterrupt\u001b[0m: "
     ]
    }
   ],
   "source": [
    "Nlevel = 5\n",
    "Ntrue = 5\n",
    "for N,J in zip([10000],[50]):\n",
    "    for iteration in range(100):\n",
    "        experiment = {}\n",
    "        print('================== iter = {}, Ntrue = {} =================='.format(iteration,Ntrue))\n",
    "        df = pd.DataFrame(30*np.random.rand(N,J),columns = ['att'+str(i+1) for i in range(J)])  \n",
    "        df0 = df.copy(deep = True)\n",
    "        df00 = df.copy(deep = True)\n",
    "        binary_code(df,df.columns,Nlevel)\n",
    "        train_index = sample(range(N),int(0.7*N))\n",
    "        test_index = list(set(range(N)) - set(train_index))\n",
    "        T = np.random.choice([0, 1], size=(len(train_index),), p=[0.5, 0.5])\n",
    "\n",
    "#=== true set sugroup ====\n",
    "        # generate true rule set\n",
    "        flag = True\n",
    "        while flag:\n",
    "            w0 = np.random.rand(J) - 0.5\n",
    "            g0 = np.dot(df0,w0)\n",
    "            Y0 = (1.0/(1+np.exp(-g0))>=0.5).astype(int)\n",
    "    #         print 'Mean of Y0 is {}'.format(mean(Y0))\n",
    "            if mean(Y0)>=0.3 and mean(Y0)<=0.7:\n",
    "                flag = False\n",
    "        BOA_model = BOA(df.iloc[train_index],1-Y0[train_index])\n",
    "        BOA_model.generate_rules(5,3,2000,True,5,'randomforest','precision')\n",
    "        candidates = []\n",
    "        threshold = sum(BOA_model.Y)*0.05\n",
    "        for r in range(BOA_model.RMatrix.shape[1]):\n",
    "            Z = np.nonzero(BOA_model.RMatrix[:,r])[0]\n",
    "            if mean(BOA_model.Y[Z])>0.5 and sum(BOA_model.RMatrix[:,r])>threshold:\n",
    "                candidates.append(r)\n",
    "        TrueSet = [BOA_model.rules[i] for i in np.random.choice(candidates,Ntrue)]\n",
    "        print(TrueSet)\n",
    "\n",
    "\n",
    "        dfn = 1-df.iloc[train_index]\n",
    "        dfn.columns = [name.strip() + 'neg' for name in df.columns]\n",
    "        df_train = pd.concat([df.iloc[train_index],dfn],axis = 1)\n",
    "        Z = np.zeros(len(train_index))\n",
    "        for rule in TrueSet:\n",
    "            Z += (np.sum(df_train[rule],axis=1)==len(rule)).astype(int)\n",
    "        Z = np.array((Z>0).astype(int))\n",
    "\n",
    "# === inserting random noise ===\n",
    "#         index = sample(range(len(train_index)),int(0.1*len(train_index)))[0]\n",
    "#         Z[index] = 1-Z[index]\n",
    "# #=== linear sugroup ====\n",
    "#         flag = True\n",
    "#         while flag:\n",
    "#             ws = np.random.rand(J) - 0.5\n",
    "#             gs = np.dot(df0,ws)\n",
    "#             Z = (1.0/(1+np.exp(-gs))>=0.5).astype(int)\n",
    "#     #         print 'Mean of Y0 is {}'.format(mean(Y0))\n",
    "#             if mean(Z)>=0.2 and mean(Z)<=0.6:\n",
    "#                 flag = False\n",
    "#=== nonelinear sugroup ====\n",
    "#         flag = True\n",
    "#         while flag:\n",
    "#             for k in range(10):\n",
    "#                 if random()>0.5:\n",
    "#                     col = sample(df00.columns.tolist(),1)\n",
    "#                     df00['new'+str(k+1)] = pow(df00[col],sample([2,3],1)[0])\n",
    "#                 else:\n",
    "#                     cols = sample(df00.columns.tolist(),2)\n",
    "#                     df00['new'+str(k+1)] = df00[cols[0]]*df00[cols[1]]\n",
    "        \n",
    "#             ws = np.random.rand(df00.shape[1]) - 0.5\n",
    "#             gs = np.dot(df00,ws)\n",
    "#             Z = (1.0/(1+np.exp(-gs))>=0.7).astype(int)\n",
    "#     #         print 'Mean of Y0 is {}'.format(mean(Y0))\n",
    "#             if mean(Z)>=0.1 and mean(Z)<=0.5:\n",
    "#                 flag = False\n",
    "## ==================================================\n",
    "                \n",
    "        ind = np.where(np.multiply(T,Z)==1)\n",
    "        Y = Y0[train_index][:]\n",
    "        Y[ind]=1\n",
    "\n",
    "        dfn = 1-df.iloc[test_index]\n",
    "        dfn.columns = [name.strip() + 'neg' for name in df.columns]\n",
    "        df_test = pd.concat([df.iloc[test_index],dfn],axis = 1)\n",
    "\n",
    "        Z_true = np.zeros(len(test_index))\n",
    "\n",
    "        for rule in TrueSet:\n",
    "            Z_true += (np.sum(df_test[rule],axis=1)==len(rule)).astype(int)\n",
    "        Z_true = (Z_true>0).astype(int)\n",
    "\n",
    "\n",
    "\n",
    "        experiment['Z_true'] = Z_true #Z[test_index] # \n",
    "        experiment['df'] = df_test #testing data\n",
    "        experiment['test_index'] = test_index\n",
    "        experiment['Y0'] = Y0\n",
    "        experiment['T'] = T\n",
    "        pickle.dump(experiment,open('simulations/'+str(iteration)+'.pkl','wb'))\n"
   ]
  },
  {
   "cell_type": "code",
   "execution_count": null,
   "metadata": {},
   "outputs": [],
   "source": []
  }
 ],
 "metadata": {
  "anaconda-cloud": {},
  "kernelspec": {
   "display_name": "Python 3",
   "language": "python",
   "name": "python3"
  },
  "language_info": {
   "codemirror_mode": {
    "name": "ipython",
    "version": 3
   },
   "file_extension": ".py",
   "mimetype": "text/x-python",
   "name": "python",
   "nbconvert_exporter": "python",
   "pygments_lexer": "ipython3",
   "version": "3.8.8"
  }
 },
 "nbformat": 4,
 "nbformat_minor": 1
}
